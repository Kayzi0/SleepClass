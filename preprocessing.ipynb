{
 "cells": [
  {
   "cell_type": "code",
   "execution_count": 3,
   "metadata": {},
   "outputs": [],
   "source": [
    "import numpy as np\n",
    "import pandas as pd\n",
    "import os\n",
    "import glob\n",
    "from matplotlib import pyplot as plt"
   ]
  },
  {
   "cell_type": "code",
   "execution_count": 4,
   "metadata": {},
   "outputs": [],
   "source": [
    "#removes the metadata from the time series, as first entry is (start time : end time)\n",
    "def csv_to_numpy(series):\n",
    "    series = pd.read_csv(series)\n",
    "    series = series.iloc[:,0]\n",
    "    series = series.to_numpy(dtype = float)\n",
    "    return series"
   ]
  },
  {
   "cell_type": "code",
   "execution_count": 58,
   "metadata": {},
   "outputs": [],
   "source": [
    "#mapping for sleep stages to integers\n",
    "mapping = {\"WK\" : 0, \"REM\": 1, \"N1\": 2, \"N2\": 3, \"N3\" : 4}\n",
    "\n",
    "def sleepstages_to_numpy(sleepstages):\n",
    "    sleepstages = pd.read_csv(sleepstages)\n",
    "    sleepstages = sleepstages.replace({\"Schlafstadium\" : mapping})\n",
    "    sleepstages = sleepstages.iloc[:,2]\n",
    "    sleepstages = sleepstages.to_numpy(dtype=int)\n",
    "    sleepstages = sleepstages[:1091]\n",
    "    return sleepstages"
   ]
  },
  {
   "cell_type": "code",
   "execution_count": 6,
   "metadata": {},
   "outputs": [],
   "source": [
    "#matches the sleep stages in the sleepstaging csv file to the data\n",
    "def match_sleepstages_to_data(data, sleepstages):\n",
    "    data = np.vstack((data, np.zeros(data.shape[1])))\n",
    "    for index, stage in enumerate(sleepstages):\n",
    "        data[-1][(index*300):(index+1):300] = stage\n",
    "    return data"
   ]
  },
  {
   "cell_type": "code",
   "execution_count": 54,
   "metadata": {},
   "outputs": [],
   "source": [
    "#creates non-overlapping windows. default is set to 300 = 30 sec * 10Hz\n",
    "#reshaping implicitly creates sliding windows for non-overlapping windows\n",
    "def create_sliding_windows(data, window_size = 300, max_size = 327300):\n",
    "    data = data[:max_size]\n",
    "    data = np.reshape(data, (max_size//window_size, -1))\n",
    "    return data"
   ]
  },
  {
   "cell_type": "code",
   "execution_count": 56,
   "metadata": {},
   "outputs": [],
   "source": [
    "#reads all time series from the directory and adds sleep stages\n",
    "def read_data_from_dir(dir):\n",
    "    data = []\n",
    "    for filename in glob.glob(os.path.join(dir, '*.csv')):\n",
    "        if \"SleepStaging\" not in filename:\n",
    "            series = csv_to_numpy(filename)\n",
    "            data.append(create_sliding_windows(series))\n",
    "            #print(filename)\n",
    "    return np.asarray(data)"
   ]
  },
  {
   "cell_type": "code",
   "execution_count": 57,
   "metadata": {},
   "outputs": [
    {
     "data": {
      "text/plain": [
       "(5, 11, 1091, 300)"
      ]
     },
     "execution_count": 57,
     "metadata": {},
     "output_type": "execute_result"
    }
   ],
   "source": [
    "#stack all data to get patient x modality x windows x window size\n",
    "dirs = [\"sleep_data_downsampling_AllSensorChannels_ lowfrequency_10HZ\\patient 29, male, 7 years\", \n",
    "    \"sleep_data_downsampling_AllSensorChannels_ lowfrequency_10HZ\\patient 75, female, 5 years\",\n",
    "    \"sleep_data_downsampling_AllSensorChannels_ lowfrequency_10HZ\\patient 80, female, 5 years\",\n",
    "    \"sleep_data_downsampling_AllSensorChannels_ lowfrequency_10HZ\\patient 89, female 6 years\",\n",
    "    \"sleep_data_downsampling_AllSensorChannels_ lowfrequency_10HZ\\patient 91, female, 7 years\"]\n",
    "\n",
    "data = []\n",
    "for dir in dirs:\n",
    "    data.append(read_data_from_dir(dir))\n",
    "\n",
    "data = np.stack((data[0], data[1], data[2], data[3], data[4]), axis = 0)\n",
    "\n",
    "data.shape"
   ]
  },
  {
   "cell_type": "code",
   "execution_count": 60,
   "metadata": {},
   "outputs": [
    {
     "data": {
      "text/plain": [
       "(5, 1091)"
      ]
     },
     "execution_count": 60,
     "metadata": {},
     "output_type": "execute_result"
    }
   ],
   "source": [
    "#stack all sleep stages to get patients x labels\n",
    "sleepstage_files = [\"sleep_data_downsampling_AllSensorChannels_ lowfrequency_10HZ\\patient 29, male, 7 years\\SleepStaging.csv\",\n",
    "                    \"sleep_data_downsampling_AllSensorChannels_ lowfrequency_10HZ\\patient 75, female, 5 years\\SleepStaging.csv\",\n",
    "                    \"sleep_data_downsampling_AllSensorChannels_ lowfrequency_10HZ\\patient 80, female, 5 years\\SleepStaging.csv\",\n",
    "                    \"sleep_data_downsampling_AllSensorChannels_ lowfrequency_10HZ\\patient 89, female 6 years\\SleepStaging.csv\",\n",
    "                    \"sleep_data_downsampling_AllSensorChannels_ lowfrequency_10HZ\\patient 91, female, 7 years\\SleepStaging.csv\"\n",
    "                    ]\n",
    "\n",
    "labels = []\n",
    "for file in sleepstage_files:\n",
    "    labels.append(sleepstages_to_numpy(file))\n",
    "\n",
    "labels = np.stack((labels[0], labels[1], labels[2], labels[3], labels[4]), axis = 0)\n",
    "labels.shape"
   ]
  }
 ],
 "metadata": {
  "kernelspec": {
   "display_name": "Python 3.8.8 64-bit",
   "language": "python",
   "name": "python3"
  },
  "language_info": {
   "codemirror_mode": {
    "name": "ipython",
    "version": 3
   },
   "file_extension": ".py",
   "mimetype": "text/x-python",
   "name": "python",
   "nbconvert_exporter": "python",
   "pygments_lexer": "ipython3",
   "version": "3.8.8"
  },
  "orig_nbformat": 4,
  "vscode": {
   "interpreter": {
    "hash": "55420cc6344d06719eda825d5fb9d753cdfa2a65cf27c12c85b0fa8b2da696a0"
   }
  }
 },
 "nbformat": 4,
 "nbformat_minor": 2
}
