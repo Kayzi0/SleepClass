{
 "cells": [
  {
   "cell_type": "code",
   "execution_count": 3,
   "metadata": {},
   "outputs": [],
   "source": [
    "import pickle as pkl\n",
    "import numpy as np"
   ]
  },
  {
   "cell_type": "code",
   "execution_count": null,
   "metadata": {},
   "outputs": [],
   "source": [
    "#generates gaussian noise\n",
    "def generate_noise(size = 300):\n",
    "    return np.random.normal(loc = 0.0, scale = 1.0, size = size)"
   ]
  },
  {
   "cell_type": "code",
   "execution_count": 5,
   "metadata": {},
   "outputs": [],
   "source": [
    "#load pickled data and pickled labels\n",
    "data = pkl.load(open(\"data.pkl\", \"rb\"))\n",
    "labels = pkl.load(open(\"labels.pkl\", \"rb\"))"
   ]
  },
  {
   "cell_type": "code",
   "execution_count": 9,
   "metadata": {},
   "outputs": [
    {
     "name": "stdout",
     "output_type": "stream",
     "text": [
      "[1023 1004  303 1709 1416]\n",
      "[0.18753437 0.18405133 0.05554537 0.31329056 0.25957837]\n"
     ]
    }
   ],
   "source": [
    "#count labels\n",
    "#reminder: mapping = {\"WK\" : 0, \"REM\": 1, \"N1\": 2, \"N2\": 3, \"N3\" : 4}\n",
    "label_count = np.bincount(labels)\n",
    "\n",
    "#determine ratios of bins\n",
    "ratios = label_count / labels.size\n",
    "print(label_count)\n",
    "print(ratios)\n",
    "\n",
    "# -> need to at lest triple the amound of N1 data to get somewhat balanced classes. Ideally: Get all labels to same amount of data"
   ]
  }
 ],
 "metadata": {
  "kernelspec": {
   "display_name": "Python 3.8.8 64-bit",
   "language": "python",
   "name": "python3"
  },
  "language_info": {
   "codemirror_mode": {
    "name": "ipython",
    "version": 3
   },
   "file_extension": ".py",
   "mimetype": "text/x-python",
   "name": "python",
   "nbconvert_exporter": "python",
   "pygments_lexer": "ipython3",
   "version": "3.8.8"
  },
  "orig_nbformat": 4,
  "vscode": {
   "interpreter": {
    "hash": "55420cc6344d06719eda825d5fb9d753cdfa2a65cf27c12c85b0fa8b2da696a0"
   }
  }
 },
 "nbformat": 4,
 "nbformat_minor": 2
}
